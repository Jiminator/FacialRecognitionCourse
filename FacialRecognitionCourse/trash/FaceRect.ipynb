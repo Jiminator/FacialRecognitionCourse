{
 "cells": [
  {
   "cell_type": "markdown",
   "metadata": {},
   "source": [
    "# 人脸检测"
   ]
  },
  {
   "cell_type": "markdown",
   "metadata": {},
   "source": [
    "## 实验说明\n"
   ]
  },
  {
   "cell_type": "markdown",
   "metadata": {},
   "source": [
    "人脸识别，是基于人的脸部特征信息进行身份识别的一种生物识别技术。用摄像机或摄像头采集含有人脸的图像或视频流，并自动在图像中检测和跟踪人脸，进而对检测到的人脸进行脸部识别的一系列相关技术，通常也叫做人像识别、面部识别。\n",
    "\n",
    "人脸识别技术包括对图像或者视频进行人脸位置检测、人脸关键点检测、人脸特征提取以及人脸特征比对等一系列相关的技术。其中，人脸检测是所有其他技术的基础，这一步骤的结果对后续的工作产生重要的影响，因为只有检测到了人脸才能进行下一步操作，所以研究人脸检测具有十分重要的研究意义和实用价值。\n",
    "\n",
    "<img src=\"imgs/FaceRect.png\" width=\"30%\" height=\"30%\" />\n",
    "\n",
    "人脸检测对于我们人类非常容易，出于社会生活的需要，我们大脑中有专门的人脸检测模块，对人脸非常敏感，即使下面这样的简笔画，大脑也能轻易检测出人脸，和各自的表情。人脸检测非常重要，那到底有什么用呢？\n",
    "    \n",
    "自动人脸检测是围绕自动人脸图像分析的所有应用的基础，包括但不限于：人脸识别和验证，监控场合的人脸跟踪，面部表情分析，面部属性识别（性别/年龄识别，颜值评估），面部光照调整和变形，面部形状重建，图像视频检索，数字相册的组织和演示。人脸检测是所有现代基于视觉的人与电脑，和人与机器人，交互系统的初始步骤。接下来，我们首先来了解一下人脸检测这一技术的基本概念。"
   ]
  },
  {
   "cell_type": "markdown",
   "metadata": {},
   "source": [
    "## 人脸检测的功能"
   ]
  },
  {
   "cell_type": "markdown",
   "metadata": {},
   "source": [
    "顾名思义，人脸检测是指对于任意一幅给定的图像(输入)，采用一定的策略对其进行搜索以确定其中是否含有人脸，如果包含人脸，则返回图像中所有脸的位置信息(输出)。\n",
    "\n",
    "<img src=\"imgs/FaceRect1.png\" width=\"30%\" height=\"30%\" />"
   ]
  },
  {
   "cell_type": "markdown",
   "metadata": {},
   "source": [
    "## 传真机/拷贝不走样\n",
    "方格纸组队实验"
   ]
  },
  {
   "cell_type": "markdown",
   "metadata": {},
   "source": [
    "## 人脸框的描述\n",
    "人脸位置通常用一个矩形框来表示，矩形框的表示方式有很多，比如：\n",
    "\n",
    "![rects](imgs/FaceRect2.png)\n",
    "\n",
    "- 左上角坐标(x,y)和长宽(w,h)\n",
    "- 中心坐标(cx,cy)和长宽(w,h)\n",
    "- 左上角坐标(x1,y1)和右下角坐标(x2,y2)\n",
    "\n",
    "在本课程中，我们选择第三种方式表达矩形框的信息，即左上角坐标和右下角坐标：(x1,y1,x2,y2)。"
   ]
  },
  {
   "cell_type": "code",
   "execution_count": null,
   "metadata": {},
   "outputs": [],
   "source": []
  }
 ],
 "metadata": {
  "kernelspec": {
   "display_name": "py36",
   "language": "python",
   "name": "py36"
  },
  "language_info": {
   "codemirror_mode": {
    "name": "ipython",
    "version": 3
   },
   "file_extension": ".py",
   "mimetype": "text/x-python",
   "name": "python",
   "nbconvert_exporter": "python",
   "pygments_lexer": "ipython3",
   "version": "3.6.8"
  }
 },
 "nbformat": 4,
 "nbformat_minor": 2
}
