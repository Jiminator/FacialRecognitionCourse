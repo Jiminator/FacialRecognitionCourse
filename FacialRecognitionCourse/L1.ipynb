{
 "cells": [
  {
   "cell_type": "markdown",
   "metadata": {},
   "source": [
    "# Introduction of Facial Recognition AI\n",
    "\n",
    "## Tasks\n",
    "\n",
    "- Students will load images into the program and provide the name and gender of the individual featured in the image.\n",
    "- The program will be able to display it and its corresponding information when asked to search for it.\n",
    "\n",
    "## Concepts\n",
    "\n",
    "- Variables\n",
    "- Comparison of variables\n",
    "- Information and features"
   ]
  },
  {
   "cell_type": "markdown",
   "metadata": {},
   "source": [
    "The name of the software agent is AI. We have provided some methods that may be used below. Students can use these methods to complete the contents of this lesson:\n",
    "\n",
    "- register(image,name,infos): The purpose of this method is to introduce itself to AI, which can provide its own name (name) and a self-introduction (infos) in the form of a string.\n",
    "- clear(): The function of this method is to clear the memory of the AI. If you don't want the AI to remember the information introduced earlier, call this methodn.\n",
    "- search(image): The purpose of this interface is to ask if the person in the photo is in its memory. If it exists, it will return the information at the time of registration.\n",
    "\n",
    "It is worth noting that if the input photo or other parameters are not standardized, the AI will prompt you for relevant information."
   ]
  },
  {
   "cell_type": "markdown",
   "metadata": {},
   "source": [
    "First, let's try to register information with the AI."
   ]
  },
  {
   "cell_type": "code",
   "execution_count": 1,
   "metadata": {},
   "outputs": [
    {
     "name": "stdout",
     "output_type": "stream",
     "text": [
      "Successful registration! The information of this classmate is as follows:\n",
      "\t\t Name: July, Gender: Girl\n"
     ]
    }
   ],
   "source": [
    "from API.AI import *\n",
    "ai = AI()\n",
    "img_0 = loadImage('data/compare_0.png')\n",
    "img_1 = loadImage('data/compare_1.png')\n",
    "img_2 = loadImage('data/compare_2.png')\n",
    "ai.register(img_0,'July','Girl')  #First Registration"
   ]
  },
  {
   "cell_type": "markdown",
   "metadata": {},
   "source": [
    "If we have already registered our name with the AI, what happens if we register again?"
   ]
  },
  {
   "cell_type": "code",
   "execution_count": 2,
   "metadata": {},
   "outputs": [
    {
     "name": "stdout",
     "output_type": "stream",
     "text": [
      "Username (July) has been registered!\n"
     ]
    }
   ],
   "source": [
    "ai.register(img_0,'July','Girl') "
   ]
  },
  {
   "cell_type": "markdown",
   "metadata": {},
   "source": [
    "Each name can only be registered once in the AI! Students should pay attention to this! What should I do if I register for the wrong information and want to re-register? "
   ]
  },
  {
   "cell_type": "code",
   "execution_count": 3,
   "metadata": {
    "collapsed": true,
    "jupyter": {
     "outputs_hidden": true
    }
   },
   "outputs": [],
   "source": [
    "ai.saveDataset(\"class.csv\")"
   ]
  },
  {
   "cell_type": "code",
   "execution_count": 4,
   "metadata": {},
   "outputs": [
    {
     "name": "stdout",
     "output_type": "stream",
     "text": [
      "The database has been successfully emptied.\n",
      "Successful registration! The information of this classmate is as follows:\n",
      "\t\t Name: July, Gender: Boy\n"
     ]
    }
   ],
   "source": [
    "ai.clear()\n",
    "ai.register(img_0,'July','Boy') "
   ]
  },
  {
   "cell_type": "markdown",
   "metadata": {},
   "source": [
    "After the above steps, we have successfully registered our own information into the AI, what happens when the AI re-engages with its own photos?"
   ]
  },
  {
   "cell_type": "code",
   "execution_count": 6,
   "metadata": {},
   "outputs": [
    {
     "name": "stdout",
     "output_type": "stream",
     "text": [
      "Highest Score: 1.0\n",
      "Classmate was found in the database. The classmate's information is as follows:\n",
      "\t\t Name: July, Gender: Boy\n"
     ]
    }
   ],
   "source": [
    "img_0 = loadImage('data/compare_0.png')\n",
    "ai.search(img_0)"
   ]
  },
  {
   "cell_type": "markdown",
   "metadata": {},
   "source": [
    "It's worth noting that if you only look at your photos with AI and don't introduce your name, then it won't remember you! "
   ]
  },
  {
   "cell_type": "code",
   "execution_count": 7,
   "metadata": {},
   "outputs": [
    {
     "name": "stdout",
     "output_type": "stream",
     "text": [
      "The database has been successfully emptied.\n",
      "The classmate information was not entered because the name was not provided!\n",
      "Highest Score: -1\n",
      "The classmate was not found in the database\n"
     ]
    }
   ],
   "source": [
    "ai.clear() \n",
    "ai.register(img_0) \n",
    "ai.search(img_0)"
   ]
  },
  {
   "cell_type": "code",
   "execution_count": null,
   "metadata": {
    "collapsed": true,
    "jupyter": {
     "outputs_hidden": true
    }
   },
   "outputs": [],
   "source": []
  },
  {
   "cell_type": "code",
   "execution_count": null,
   "metadata": {
    "collapsed": true,
    "jupyter": {
     "outputs_hidden": true
    }
   },
   "outputs": [],
   "source": []
  },
  {
   "cell_type": "code",
   "execution_count": null,
   "metadata": {
    "collapsed": true,
    "jupyter": {
     "outputs_hidden": true
    }
   },
   "outputs": [],
   "source": []
  },
  {
   "cell_type": "code",
   "execution_count": null,
   "metadata": {
    "collapsed": true,
    "jupyter": {
     "outputs_hidden": true
    }
   },
   "outputs": [],
   "source": []
  }
 ],
 "metadata": {
  "kernelspec": {
   "display_name": "Python 3",
   "language": "python",
   "name": "python3"
  },
  "language_info": {
   "codemirror_mode": {
    "name": "ipython",
    "version": 3
   },
   "file_extension": ".py",
   "mimetype": "text/x-python",
   "name": "python",
   "nbconvert_exporter": "python",
   "pygments_lexer": "ipython3",
   "version": "3.6.1"
  }
 },
 "nbformat": 4,
 "nbformat_minor": 4
}
